{
  "nbformat": 4,
  "nbformat_minor": 0,
  "metadata": {
    "colab": {
      "provenance": [],
      "gpuType": "T4"
    },
    "kernelspec": {
      "name": "python3",
      "display_name": "Python 3"
    },
    "language_info": {
      "name": "python"
    },
    "accelerator": "GPU"
  },
  "cells": [
    {
      "cell_type": "code",
      "execution_count": 21,
      "metadata": {
        "id": "I0oddcc1p5gm"
      },
      "outputs": [],
      "source": [
        "import torch\n",
        "import torch.nn as nn\n",
        "from torch.nn import functional as F\n",
        "import torch.optim as optim\n",
        "from torch.utils.data import Dataset, DataLoader\n",
        "from torch.optim.lr_scheduler import ReduceLROnPlateau\n",
        "from torchvision import datasets, transforms, models\n",
        "from torch.utils.data import DataLoader, TensorDataset, Dataset\n",
        "from torch.cuda.amp import autocast, GradScaler\n",
        "import pandas as pd\n",
        "import numpy as np\n",
        "from sklearn.model_selection import train_test_split\n",
        "from sklearn.metrics import classification_report, confusion_matrix, cohen_kappa_score\n",
        "import seaborn as sns\n",
        "from sklearn.metrics import confusion_matrix\n",
        "import matplotlib.pyplot as plt\n",
        "from tqdm import tqdm\n",
        "from PIL import Image\n",
        "import random\n",
        "import glob\n",
        "import cv2\n",
        "import os\n",
        "from torchvision.models.video import r3d_18\n",
        "import torchvision\n",
        "import ast"
      ]
    },
    {
      "cell_type": "code",
      "source": [
        "device = torch.device('cuda' if torch.cuda.is_available() else cpu)"
      ],
      "metadata": {
        "id": "V4lttlB3txFV"
      },
      "execution_count": 2,
      "outputs": []
    },
    {
      "cell_type": "code",
      "source": [
        "csv_path = '/content/drive/MyDrive/Batch01/mafat_sniffing_batch01.csv'\n",
        "\n",
        "video_dir = '/content/drive/MyDrive/Batch01/videos'\n",
        "\n",
        "frames_dir = '/content/data/frames/'\n",
        "\n",
        "behavior_to_class = {\n",
        "    'Sniff bin 1': 'data/sniffing/bin1/',\n",
        "    'Sniff bin 2': 'data/sniffing/bin2/',\n",
        "    'Sniff bin 3': 'data/sniffing/bin3/',\n",
        "    'Alert': 'data/alert/'\n",
        "}\n",
        "\n",
        "os.makedirs(frames_dir, exist_ok=True)"
      ],
      "metadata": {
        "id": "O22c0pNpqUoc"
      },
      "execution_count": 3,
      "outputs": []
    },
    {
      "cell_type": "code",
      "source": [
        "for dir_path in behavior_to_class.values():\n",
        "  os.makedirs(dir_path, exist_ok=True)\n",
        "\n",
        "df = pd.read_csv(csv_path)\n",
        "frame_data = []"
      ],
      "metadata": {
        "id": "7f-mOVwep6q0"
      },
      "execution_count": 4,
      "outputs": []
    },
    {
      "cell_type": "code",
      "source": [
        "df['frames'] = df['Media file name'].apply(lambda x: x.split('/')[-1])\n",
        "\n",
        "grouped_by_video = df.groupby('frames')\n",
        "\n",
        "frame_data = []\n",
        "\n",
        "for video_name, group in tqdm(grouped_by_video, desc=\"video processing\"):\n",
        "    video_path = os.path.join(video_dir, video_name)\n",
        "\n",
        "    cap = cv2.VideoCapture(video_path)\n",
        "    if not cap.isOpened():\n",
        "        print(f\"Can`t open: {video_path}\")\n",
        "        continue\n",
        "\n",
        "    frames_to_extract = {}\n",
        "    for _, row in group.iterrows():\n",
        "        behavior = row['Behavior']\n",
        "        if behavior in behavior_to_class:\n",
        "            class_label = behavior_to_class[behavior]\n",
        "            start_frame = int(row['Image index start'])\n",
        "            stop_frame = int(row['Image index stop'])\n",
        "            for i in range(start_frame, stop_frame + 1):\n",
        "                frames_to_extract[i] = class_label\n",
        "\n",
        "    current_frame_idx = 0\n",
        "    while True:\n",
        "        ret, frame = cap.read()\n",
        "        if not ret:\n",
        "            break\n",
        "\n",
        "        if current_frame_idx in frames_to_extract:\n",
        "            class_label = frames_to_extract[current_frame_idx]\n",
        "\n",
        "            frame_filename = f\"{video_name}_frame_{current_frame_idx}.jpg\"\n",
        "            frame_path = os.path.join(frames_dir, frame_filename)\n",
        "            cv2.imwrite(frame_path, frame)\n",
        "\n",
        "            frame_data.append([frame_path, class_label])\n",
        "\n",
        "        current_frame_idx += 1\n",
        "\n",
        "    cap.release()\n",
        "\n",
        "print(\"Finish.\")"
      ],
      "metadata": {
        "colab": {
          "base_uri": "https://localhost:8080/"
        },
        "id": "gZuNVCqu4rSt",
        "outputId": "9a6bcd1b-6ecc-401c-af20-1203aa25be7c"
      },
      "execution_count": 5,
      "outputs": [
        {
          "output_type": "stream",
          "name": "stderr",
          "text": [
            "video processing: 100%|██████████| 50/50 [07:57<00:00,  9.55s/it]"
          ]
        },
        {
          "output_type": "stream",
          "name": "stdout",
          "text": [
            "Finish.\n"
          ]
        },
        {
          "output_type": "stream",
          "name": "stderr",
          "text": [
            "\n"
          ]
        }
      ]
    },
    {
      "cell_type": "code",
      "source": [
        "output_df = pd.DataFrame(frame_data, columns=['frames', 'label'])\n",
        "\n",
        "output_csv_path = '/content/data/output.csv'\n",
        "output_df.to_csv(output_csv_path, index=False)"
      ],
      "metadata": {
        "id": "7HGjbsTseTiS"
      },
      "execution_count": 6,
      "outputs": []
    },
    {
      "cell_type": "code",
      "source": [
        "data_df = pd.read_csv('/content/data/output.csv')\n",
        "\n",
        "sequences = []\n",
        "current_sequence = []\n",
        "current_label = None\n",
        "\n",
        "for _, row in data_df.iterrows():\n",
        "    frame_path = row[\"frames\"]\n",
        "    label = row[\"label\"]\n",
        "    if label != current_label and current_label is not None:\n",
        "        if current_sequence:\n",
        "            sequences.append((current_sequence, current_label))\n",
        "        current_sequence = []\n",
        "    current_sequence.append(frame_path)\n",
        "    current_label = label\n",
        "\n",
        "if current_sequence:\n",
        "    sequences.append((current_sequence, current_label))\n",
        "\n",
        "print(len(sequences))"
      ],
      "metadata": {
        "id": "XpvjW9PFsFeV",
        "colab": {
          "base_uri": "https://localhost:8080/"
        },
        "outputId": "946ae467-69b6-4e5d-8243-77e918064e9b"
      },
      "execution_count": 7,
      "outputs": [
        {
          "output_type": "stream",
          "name": "stdout",
          "text": [
            "250\n"
          ]
        }
      ]
    },
    {
      "cell_type": "code",
      "source": [
        "transform = transforms.Compose([\n",
        "    transforms.Resize((224, 224)),\n",
        "    transforms.ToTensor(),\n",
        "    transforms.Normalize(mean=[0.5], std=[0.5])\n",
        "    ])\n",
        "\n",
        "train_transform = transforms.Compose([\n",
        "    transforms.Resize((224, 224)),\n",
        "    transforms.RandomHorizontalFlip(p=0.5),\n",
        "    transforms.RandomRotation(10),\n",
        "    transforms.ColorJitter(brightness=0.2, contrast=0.2),\n",
        "    transforms.ToTensor(),\n",
        "    transforms.Normalize(mean=[0.5], std=[0.5])\n",
        "])"
      ],
      "metadata": {
        "id": "qlWLSdVTa298"
      },
      "execution_count": 8,
      "outputs": []
    },
    {
      "cell_type": "code",
      "source": [
        "labels = [seq[1] for seq in sequences]\n",
        "\n",
        "train_data, temp_data = train_test_split(sequences, test_size=0.3, random_state=42, stratify=labels)\n",
        "valid_data, test_data = train_test_split(temp_data, test_size=0.3, random_state=42, stratify=[seq[1] for seq in temp_data])\n",
        "\n",
        "print(len(train_data))\n",
        "print(len(valid_data))\n",
        "print(len(test_data))"
      ],
      "metadata": {
        "id": "G09cTXiosFkk",
        "colab": {
          "base_uri": "https://localhost:8080/"
        },
        "outputId": "2d45f8de-fb48-4eda-cba4-4b5ef6617bff"
      },
      "execution_count": 11,
      "outputs": [
        {
          "output_type": "stream",
          "name": "stdout",
          "text": [
            "175\n",
            "52\n",
            "23\n"
          ]
        }
      ]
    },
    {
      "cell_type": "code",
      "source": [
        "class VideoSequenceDataset(Dataset):\n",
        "    def __init__(self, sequences, transform=None, num_frames=16):\n",
        "        self.sequences = sequences\n",
        "        self.transform = transform\n",
        "        self.num_frames = num_frames\n",
        "        self.labels = sorted(list(set([seq[1] for seq in sequences])))\n",
        "        self.labels_to_idx = {cls: i for i, cls in enumerate(self.labels)}\n",
        "\n",
        "    def __len__(self):\n",
        "        return len(self.sequences)\n",
        "\n",
        "    def __getitem__(self, idx):\n",
        "        frames, label_str = self.sequences[idx]\n",
        "        label_idx = self.labels_to_idx[label_str]\n",
        "\n",
        "        if len(frames) >= self.num_frames:\n",
        "            indices = np.linspace(0, len(frames) - 1, self.num_frames, dtype=int)\n",
        "            selected_frames = [frames[i] for i in indices]\n",
        "        else:\n",
        "            selected_frames = frames + [frames[-1]] * (self.num_frames - len(frames))\n",
        "\n",
        "        images = [Image.open(frame).convert(\"RGB\") for frame in selected_frames]\n",
        "\n",
        "        if self.transform:\n",
        "            images = [self.transform(img) for img in images]\n",
        "\n",
        "        return torch.stack(images), torch.tensor(label_idx)\n",
        "\n",
        "train_dataset = VideoSequenceDataset(train_data, transform=train_transform, num_frames=8)\n",
        "valid_dataset = VideoSequenceDataset(valid_data, transform=train_transform, num_frames=8)\n",
        "test_dataset = VideoSequenceDataset(test_data, transform=transform, num_frames=8)"
      ],
      "metadata": {
        "id": "dcGjgXShsFm7"
      },
      "execution_count": 12,
      "outputs": []
    },
    {
      "cell_type": "code",
      "source": [
        "frames, label = train_dataset[0]\n",
        "print(frames.shape)\n",
        "print(label)"
      ],
      "metadata": {
        "colab": {
          "base_uri": "https://localhost:8080/"
        },
        "id": "t0x4wm5BTNBv",
        "outputId": "63a3743c-52ef-457a-eb4c-70c92f80d76c"
      },
      "execution_count": 15,
      "outputs": [
        {
          "output_type": "stream",
          "name": "stdout",
          "text": [
            "torch.Size([8, 3, 224, 224])\n",
            "tensor(3)\n"
          ]
        }
      ]
    },
    {
      "cell_type": "code",
      "source": [
        "train_dataloader = DataLoader(train_dataset, batch_size=8, shuffle=True, num_workers=2)\n",
        "valid_dataloader = DataLoader(valid_dataset, batch_size=8, shuffle=False, num_workers=2)\n",
        "test_dataloader = DataLoader(test_dataset, batch_size=8, shuffle=False)\n",
        "\n",
        "for batch in train_dataloader:\n",
        "  frames, labels = batch\n",
        "  print(frames.shape)\n",
        "  print(labels)\n",
        "  break"
      ],
      "metadata": {
        "colab": {
          "base_uri": "https://localhost:8080/"
        },
        "id": "XOAO-AV3sFS6",
        "outputId": "172f0de7-a670-4348-e30c-e017c2125675"
      },
      "execution_count": 16,
      "outputs": [
        {
          "output_type": "stream",
          "name": "stdout",
          "text": [
            "torch.Size([8, 8, 3, 224, 224])\n",
            "tensor([3, 0, 3, 1, 2, 3, 0, 0])\n"
          ]
        }
      ]
    },
    {
      "cell_type": "code",
      "source": [
        "class CNN_LSTM(nn.Module):\n",
        "  def __init__(self, num_classes, hidden_size=256, num_layers=1):\n",
        "    super(CNN_LSTM, self).__init__()\n",
        "\n",
        "    resnet = models.resnet18(weights=models.ResNet18_Weights.DEFAULT)\n",
        "    resnet.fc = nn.Identity()\n",
        "\n",
        "    self.cnn = resnet\n",
        "    self.lstm = nn.LSTM(input_size=512, hidden_size=hidden_size, num_layers=num_layers, batch_first=True)\n",
        "    self.fc = nn.Linear(hidden_size, num_classes)\n",
        "\n",
        "  def forward(self, x):\n",
        "    batch_size, seq_len, C, H, W = x.shape\n",
        "\n",
        "    x = x.view(batch_size * seq_len, C, H, W)\n",
        "    x = self.cnn(x)\n",
        "    x = x.view(batch_size, seq_len, -1)\n",
        "    x, _ = self.lstm(x)\n",
        "    x = x[:, -1, :]\n",
        "    x = self.fc(x)\n",
        "\n",
        "    return x\n",
        "\n",
        "model = CNN_LSTM(num_classes=4).to(device)"
      ],
      "metadata": {
        "id": "5pI03SeZsFVg",
        "colab": {
          "base_uri": "https://localhost:8080/"
        },
        "outputId": "2afd0043-feed-413a-ff20-d31beff3b0c2"
      },
      "execution_count": 17,
      "outputs": [
        {
          "output_type": "stream",
          "name": "stderr",
          "text": [
            "Downloading: \"https://download.pytorch.org/models/resnet18-f37072fd.pth\" to /root/.cache/torch/hub/checkpoints/resnet18-f37072fd.pth\n",
            "100%|██████████| 44.7M/44.7M [00:00<00:00, 87.9MB/s]\n"
          ]
        }
      ]
    },
    {
      "cell_type": "code",
      "source": [
        "criterion = nn.CrossEntropyLoss()\n",
        "optimizer = optim.AdamW(model.parameters(), lr = 0.0001)\n",
        "scheduler = torch.optim.lr_scheduler.ReduceLROnPlateau(optimizer, 'max', patience=3, factor=0.5)"
      ],
      "metadata": {
        "id": "rx60NKoNuScn"
      },
      "execution_count": 18,
      "outputs": []
    },
    {
      "cell_type": "code",
      "source": [
        "train_losses = []\n",
        "val_losses = []\n",
        "train_accuracies = []\n",
        "val_accuracies = []"
      ],
      "metadata": {
        "id": "v5UHWf2bsFX7"
      },
      "execution_count": 19,
      "outputs": []
    },
    {
      "cell_type": "code",
      "source": [
        "num_epochs = 30\n",
        "scaler = GradScaler()\n",
        "\n",
        "for epoch in range(num_epochs):\n",
        "    model.train()\n",
        "    running_loss = 0.0\n",
        "    train_correct = 0\n",
        "    train_total = 0\n",
        "\n",
        "    train_loop = tqdm(train_dataloader, desc=f'Epoch {epoch+1}/{num_epochs}')\n",
        "    for frames, labels in train_loop:\n",
        "        frames, labels = frames.to(device), labels.to(device)\n",
        "        optimizer.zero_grad()\n",
        "\n",
        "        with autocast():\n",
        "            outputs = model(frames)\n",
        "            loss = criterion(outputs, labels)\n",
        "\n",
        "        scaler.scale(loss).backward()\n",
        "        scaler.step(optimizer)\n",
        "        scaler.update()\n",
        "\n",
        "        running_loss += loss.item()\n",
        "\n",
        "        _, predicted = torch.max(outputs, 1)\n",
        "        train_total += labels.size(0)\n",
        "        train_correct += (predicted == labels).sum().item()\n",
        "\n",
        "        train_loop.set_postfix(loss=loss.item(), accuracy=100 * train_correct / train_total)\n",
        "\n",
        "    train_loss = running_loss / len(train_dataloader)\n",
        "    train_accuracy = 100 * train_correct / train_total\n",
        "\n",
        "    train_losses.append(train_loss)\n",
        "    train_accuracies.append(train_accuracy)\n",
        "\n",
        "    torch.cuda.empty_cache()\n",
        "\n",
        "    model.eval()\n",
        "    val_loss = 0.0\n",
        "    val_correct = 0\n",
        "    val_total = 0\n",
        "    with torch.no_grad():\n",
        "        for frames, labels in valid_dataloader:\n",
        "            frames, labels = frames.to(device), labels.to(device)\n",
        "            with autocast():\n",
        "                outputs = model(frames)\n",
        "                loss = criterion(outputs, labels)\n",
        "            val_loss += loss.item()\n",
        "            _, predicted = torch.max(outputs, 1)\n",
        "            val_total += labels.size(0)\n",
        "            val_correct += (predicted == labels).sum().item()\n",
        "\n",
        "    val_loss /= len(valid_dataloader)\n",
        "    val_accuracy = 100 * val_correct / val_total\n",
        "\n",
        "    val_losses.append(val_loss)\n",
        "    val_accuracies.append(val_accuracy)\n",
        "\n",
        "    scheduler.step(val_loss)\n",
        "    lr = scheduler.get_last_lr()\n",
        "\n",
        "    print(f\"Epoch {epoch+1}/{num_epochs}: \"\n",
        "          f\"Train Loss: {train_loss:.4f}, Train Acc: {train_accuracy:.2f}% | \"\n",
        "          f\"Val Loss: {val_loss:.4f}, Val Acc: {val_accuracy:.2f}%\")"
      ],
      "metadata": {
        "colab": {
          "base_uri": "https://localhost:8080/"
        },
        "id": "0sTkt56csFZ7",
        "outputId": "2897ab17-f198-4ee0-ea30-fd7a6f3bfd92"
      },
      "execution_count": 20,
      "outputs": [
        {
          "output_type": "stream",
          "name": "stderr",
          "text": [
            "/tmp/ipython-input-20-2471055486.py:2: FutureWarning: `torch.cuda.amp.GradScaler(args...)` is deprecated. Please use `torch.amp.GradScaler('cuda', args...)` instead.\n",
            "  scaler = GradScaler()\n",
            "Epoch 1/30:   0%|          | 0/22 [00:00<?, ?it/s]/tmp/ipython-input-20-2471055486.py:15: FutureWarning: `torch.cuda.amp.autocast(args...)` is deprecated. Please use `torch.amp.autocast('cuda', args...)` instead.\n",
            "  with autocast():\n",
            "Epoch 1/30: 100%|██████████| 22/22 [00:24<00:00,  1.11s/it, accuracy=40.6, loss=1.42]\n",
            "/tmp/ipython-input-20-2471055486.py:46: FutureWarning: `torch.cuda.amp.autocast(args...)` is deprecated. Please use `torch.amp.autocast('cuda', args...)` instead.\n",
            "  with autocast():\n"
          ]
        },
        {
          "output_type": "stream",
          "name": "stdout",
          "text": [
            "Epoch 1/30: Train Loss: 1.3097, Train Acc: 40.57% | Val Loss: 1.0076, Val Acc: 67.31%\n"
          ]
        },
        {
          "output_type": "stream",
          "name": "stderr",
          "text": [
            "Epoch 2/30: 100%|██████████| 22/22 [00:20<00:00,  1.10it/s, accuracy=64, loss=0.698]\n"
          ]
        },
        {
          "output_type": "stream",
          "name": "stdout",
          "text": [
            "Epoch 2/30: Train Loss: 0.9104, Train Acc: 64.00% | Val Loss: 0.8106, Val Acc: 65.38%\n"
          ]
        },
        {
          "output_type": "stream",
          "name": "stderr",
          "text": [
            "Epoch 3/30: 100%|██████████| 22/22 [00:20<00:00,  1.07it/s, accuracy=83.4, loss=0.661]\n"
          ]
        },
        {
          "output_type": "stream",
          "name": "stdout",
          "text": [
            "Epoch 3/30: Train Loss: 0.5753, Train Acc: 83.43% | Val Loss: 0.7721, Val Acc: 73.08%\n"
          ]
        },
        {
          "output_type": "stream",
          "name": "stderr",
          "text": [
            "Epoch 4/30: 100%|██████████| 22/22 [00:21<00:00,  1.02it/s, accuracy=92.6, loss=0.633]\n"
          ]
        },
        {
          "output_type": "stream",
          "name": "stdout",
          "text": [
            "Epoch 4/30: Train Loss: 0.3148, Train Acc: 92.57% | Val Loss: 0.6413, Val Acc: 76.92%\n"
          ]
        },
        {
          "output_type": "stream",
          "name": "stderr",
          "text": [
            "Epoch 5/30: 100%|██████████| 22/22 [00:22<00:00,  1.02s/it, accuracy=92.6, loss=0.166]\n"
          ]
        },
        {
          "output_type": "stream",
          "name": "stdout",
          "text": [
            "Epoch 5/30: Train Loss: 0.2612, Train Acc: 92.57% | Val Loss: 0.4264, Val Acc: 84.62%\n"
          ]
        },
        {
          "output_type": "stream",
          "name": "stderr",
          "text": [
            "Epoch 6/30: 100%|██████████| 22/22 [00:21<00:00,  1.04it/s, accuracy=96.6, loss=0.0397]\n"
          ]
        },
        {
          "output_type": "stream",
          "name": "stdout",
          "text": [
            "Epoch 6/30: Train Loss: 0.1276, Train Acc: 96.57% | Val Loss: 0.6167, Val Acc: 82.69%\n"
          ]
        },
        {
          "output_type": "stream",
          "name": "stderr",
          "text": [
            "Epoch 7/30: 100%|██████████| 22/22 [00:21<00:00,  1.01it/s, accuracy=97.7, loss=0.199]\n"
          ]
        },
        {
          "output_type": "stream",
          "name": "stdout",
          "text": [
            "Epoch 7/30: Train Loss: 0.0995, Train Acc: 97.71% | Val Loss: 0.4027, Val Acc: 84.62%\n"
          ]
        },
        {
          "output_type": "stream",
          "name": "stderr",
          "text": [
            "Epoch 8/30: 100%|██████████| 22/22 [00:20<00:00,  1.06it/s, accuracy=100, loss=0.0637]\n"
          ]
        },
        {
          "output_type": "stream",
          "name": "stdout",
          "text": [
            "Epoch 8/30: Train Loss: 0.0683, Train Acc: 100.00% | Val Loss: 0.5516, Val Acc: 84.62%\n"
          ]
        },
        {
          "output_type": "stream",
          "name": "stderr",
          "text": [
            "Epoch 9/30: 100%|██████████| 22/22 [00:20<00:00,  1.09it/s, accuracy=97.7, loss=0.0736]\n"
          ]
        },
        {
          "output_type": "stream",
          "name": "stdout",
          "text": [
            "Epoch 9/30: Train Loss: 0.1082, Train Acc: 97.71% | Val Loss: 0.4029, Val Acc: 88.46%\n"
          ]
        },
        {
          "output_type": "stream",
          "name": "stderr",
          "text": [
            "Epoch 10/30: 100%|██████████| 22/22 [00:19<00:00,  1.13it/s, accuracy=100, loss=0.0317]\n"
          ]
        },
        {
          "output_type": "stream",
          "name": "stdout",
          "text": [
            "Epoch 10/30: Train Loss: 0.0401, Train Acc: 100.00% | Val Loss: 0.3775, Val Acc: 90.38%\n"
          ]
        },
        {
          "output_type": "stream",
          "name": "stderr",
          "text": [
            "Epoch 11/30: 100%|██████████| 22/22 [00:19<00:00,  1.12it/s, accuracy=99.4, loss=0.0249]\n"
          ]
        },
        {
          "output_type": "stream",
          "name": "stdout",
          "text": [
            "Epoch 11/30: Train Loss: 0.0517, Train Acc: 99.43% | Val Loss: 0.4329, Val Acc: 86.54%\n"
          ]
        },
        {
          "output_type": "stream",
          "name": "stderr",
          "text": [
            "Epoch 12/30: 100%|██████████| 22/22 [00:19<00:00,  1.13it/s, accuracy=100, loss=0.0132]\n"
          ]
        },
        {
          "output_type": "stream",
          "name": "stdout",
          "text": [
            "Epoch 12/30: Train Loss: 0.0289, Train Acc: 100.00% | Val Loss: 0.3739, Val Acc: 86.54%\n"
          ]
        },
        {
          "output_type": "stream",
          "name": "stderr",
          "text": [
            "Epoch 13/30: 100%|██████████| 22/22 [00:20<00:00,  1.07it/s, accuracy=99.4, loss=0.0195]\n"
          ]
        },
        {
          "output_type": "stream",
          "name": "stdout",
          "text": [
            "Epoch 13/30: Train Loss: 0.0357, Train Acc: 99.43% | Val Loss: 0.3598, Val Acc: 84.62%\n"
          ]
        },
        {
          "output_type": "stream",
          "name": "stderr",
          "text": [
            "Epoch 14/30: 100%|██████████| 22/22 [00:20<00:00,  1.06it/s, accuracy=98.9, loss=0.0194]\n"
          ]
        },
        {
          "output_type": "stream",
          "name": "stdout",
          "text": [
            "Epoch 14/30: Train Loss: 0.0518, Train Acc: 98.86% | Val Loss: 0.3202, Val Acc: 88.46%\n"
          ]
        },
        {
          "output_type": "stream",
          "name": "stderr",
          "text": [
            "Epoch 15/30: 100%|██████████| 22/22 [00:21<00:00,  1.04it/s, accuracy=100, loss=0.0411]\n"
          ]
        },
        {
          "output_type": "stream",
          "name": "stdout",
          "text": [
            "Epoch 15/30: Train Loss: 0.0236, Train Acc: 100.00% | Val Loss: 0.3222, Val Acc: 90.38%\n"
          ]
        },
        {
          "output_type": "stream",
          "name": "stderr",
          "text": [
            "Epoch 16/30: 100%|██████████| 22/22 [00:20<00:00,  1.05it/s, accuracy=99.4, loss=0.0228]\n"
          ]
        },
        {
          "output_type": "stream",
          "name": "stdout",
          "text": [
            "Epoch 16/30: Train Loss: 0.0256, Train Acc: 99.43% | Val Loss: 0.3091, Val Acc: 90.38%\n"
          ]
        },
        {
          "output_type": "stream",
          "name": "stderr",
          "text": [
            "Epoch 17/30: 100%|██████████| 22/22 [00:21<00:00,  1.01it/s, accuracy=100, loss=0.0305]\n"
          ]
        },
        {
          "output_type": "stream",
          "name": "stdout",
          "text": [
            "Epoch 17/30: Train Loss: 0.0246, Train Acc: 100.00% | Val Loss: 0.3763, Val Acc: 88.46%\n"
          ]
        },
        {
          "output_type": "stream",
          "name": "stderr",
          "text": [
            "Epoch 18/30: 100%|██████████| 22/22 [00:20<00:00,  1.06it/s, accuracy=100, loss=0.0156]\n"
          ]
        },
        {
          "output_type": "stream",
          "name": "stdout",
          "text": [
            "Epoch 18/30: Train Loss: 0.0229, Train Acc: 100.00% | Val Loss: 0.3741, Val Acc: 88.46%\n"
          ]
        },
        {
          "output_type": "stream",
          "name": "stderr",
          "text": [
            "Epoch 19/30: 100%|██████████| 22/22 [00:19<00:00,  1.13it/s, accuracy=100, loss=0.0116]\n"
          ]
        },
        {
          "output_type": "stream",
          "name": "stdout",
          "text": [
            "Epoch 19/30: Train Loss: 0.0225, Train Acc: 100.00% | Val Loss: 0.3638, Val Acc: 88.46%\n"
          ]
        },
        {
          "output_type": "stream",
          "name": "stderr",
          "text": [
            "Epoch 20/30: 100%|██████████| 22/22 [00:19<00:00,  1.12it/s, accuracy=100, loss=0.0171]\n"
          ]
        },
        {
          "output_type": "stream",
          "name": "stdout",
          "text": [
            "Epoch 20/30: Train Loss: 0.0201, Train Acc: 100.00% | Val Loss: 0.3963, Val Acc: 88.46%\n"
          ]
        },
        {
          "output_type": "stream",
          "name": "stderr",
          "text": [
            "Epoch 21/30: 100%|██████████| 22/22 [00:19<00:00,  1.12it/s, accuracy=99.4, loss=0.0341]\n"
          ]
        },
        {
          "output_type": "stream",
          "name": "stdout",
          "text": [
            "Epoch 21/30: Train Loss: 0.0306, Train Acc: 99.43% | Val Loss: 0.3813, Val Acc: 90.38%\n"
          ]
        },
        {
          "output_type": "stream",
          "name": "stderr",
          "text": [
            "Epoch 22/30: 100%|██████████| 22/22 [00:19<00:00,  1.13it/s, accuracy=98.3, loss=0.0124]\n"
          ]
        },
        {
          "output_type": "stream",
          "name": "stdout",
          "text": [
            "Epoch 22/30: Train Loss: 0.0376, Train Acc: 98.29% | Val Loss: 0.4047, Val Acc: 88.46%\n"
          ]
        },
        {
          "output_type": "stream",
          "name": "stderr",
          "text": [
            "Epoch 23/30: 100%|██████████| 22/22 [00:20<00:00,  1.07it/s, accuracy=100, loss=0.0185]\n"
          ]
        },
        {
          "output_type": "stream",
          "name": "stdout",
          "text": [
            "Epoch 23/30: Train Loss: 0.0255, Train Acc: 100.00% | Val Loss: 0.4131, Val Acc: 86.54%\n"
          ]
        },
        {
          "output_type": "stream",
          "name": "stderr",
          "text": [
            "Epoch 24/30: 100%|██████████| 22/22 [00:20<00:00,  1.05it/s, accuracy=100, loss=0.0141]\n"
          ]
        },
        {
          "output_type": "stream",
          "name": "stdout",
          "text": [
            "Epoch 24/30: Train Loss: 0.0278, Train Acc: 100.00% | Val Loss: 0.3933, Val Acc: 86.54%\n"
          ]
        },
        {
          "output_type": "stream",
          "name": "stderr",
          "text": [
            "Epoch 25/30: 100%|██████████| 22/22 [00:21<00:00,  1.03it/s, accuracy=100, loss=0.0108]\n"
          ]
        },
        {
          "output_type": "stream",
          "name": "stdout",
          "text": [
            "Epoch 25/30: Train Loss: 0.0212, Train Acc: 100.00% | Val Loss: 0.3736, Val Acc: 88.46%\n"
          ]
        },
        {
          "output_type": "stream",
          "name": "stderr",
          "text": [
            "Epoch 26/30: 100%|██████████| 22/22 [00:21<00:00,  1.03it/s, accuracy=100, loss=0.0111]\n"
          ]
        },
        {
          "output_type": "stream",
          "name": "stdout",
          "text": [
            "Epoch 26/30: Train Loss: 0.0228, Train Acc: 100.00% | Val Loss: 0.4212, Val Acc: 86.54%\n"
          ]
        },
        {
          "output_type": "stream",
          "name": "stderr",
          "text": [
            "Epoch 27/30: 100%|██████████| 22/22 [00:21<00:00,  1.05it/s, accuracy=100, loss=0.0142]\n"
          ]
        },
        {
          "output_type": "stream",
          "name": "stdout",
          "text": [
            "Epoch 27/30: Train Loss: 0.0154, Train Acc: 100.00% | Val Loss: 0.4263, Val Acc: 84.62%\n"
          ]
        },
        {
          "output_type": "stream",
          "name": "stderr",
          "text": [
            "Epoch 28/30: 100%|██████████| 22/22 [00:20<00:00,  1.07it/s, accuracy=100, loss=0.0147]\n"
          ]
        },
        {
          "output_type": "stream",
          "name": "stdout",
          "text": [
            "Epoch 28/30: Train Loss: 0.0159, Train Acc: 100.00% | Val Loss: 0.3690, Val Acc: 88.46%\n"
          ]
        },
        {
          "output_type": "stream",
          "name": "stderr",
          "text": [
            "Epoch 29/30: 100%|██████████| 22/22 [00:20<00:00,  1.09it/s, accuracy=99.4, loss=0.0496]\n"
          ]
        },
        {
          "output_type": "stream",
          "name": "stdout",
          "text": [
            "Epoch 29/30: Train Loss: 0.0282, Train Acc: 99.43% | Val Loss: 0.3980, Val Acc: 88.46%\n"
          ]
        },
        {
          "output_type": "stream",
          "name": "stderr",
          "text": [
            "Epoch 30/30: 100%|██████████| 22/22 [00:19<00:00,  1.11it/s, accuracy=100, loss=0.00983]\n"
          ]
        },
        {
          "output_type": "stream",
          "name": "stdout",
          "text": [
            "Epoch 30/30: Train Loss: 0.0202, Train Acc: 100.00% | Val Loss: 0.3781, Val Acc: 88.46%\n"
          ]
        }
      ]
    },
    {
      "cell_type": "code",
      "source": [
        "plt.figure(figsize=(12, 5))\n",
        "plt.subplot(1, 2, 1)\n",
        "plt.plot(train_losses, label='Train Loss')\n",
        "plt.plot(val_losses, label='Validation Loss')\n",
        "plt.xlabel('Epoch')\n",
        "plt.ylabel('Loss')\n",
        "plt.legend()\n",
        "plt.title('Training and Validation Loss')"
      ],
      "metadata": {
        "colab": {
          "base_uri": "https://localhost:8080/",
          "height": 504
        },
        "id": "Iqlu9RVxeD4e",
        "outputId": "7f4fca0a-9ff6-4e2c-87bd-99653e4bbef9"
      },
      "execution_count": 22,
      "outputs": [
        {
          "output_type": "execute_result",
          "data": {
            "text/plain": [
              "Text(0.5, 1.0, 'Training and Validation Loss')"
            ]
          },
          "metadata": {},
          "execution_count": 22
        },
        {
          "output_type": "display_data",
          "data": {
            "text/plain": [
              "<Figure size 1200x500 with 1 Axes>"
            ],
            "image/png": "[encoded data removed]"
          },
          "metadata": {}
        }
      ]
    },
    {
      "cell_type": "code",
      "source": [
        "plt.subplot(1, 2, 2)\n",
        "plt.plot(train_accuracies, label='Train Accuracy')\n",
        "plt.plot(val_accuracies, label='Validation Accuracy')\n",
        "plt.xlabel('Epoch')\n",
        "plt.ylabel('Accuracy (%)')\n",
        "plt.legend()\n",
        "plt.title('Training and Validation Accuracy')\n",
        "\n",
        "plt.tight_layout()\n",
        "plt.show()"
      ],
      "metadata": {
        "colab": {
          "base_uri": "https://localhost:8080/",
          "height": 487
        },
        "id": "9JRW6O9MeEt0",
        "outputId": "a5152102-c712-4d2b-a6ba-6b8669c8fe83"
      },
      "execution_count": 23,
      "outputs": [
        {
          "output_type": "display_data",
          "data": {
            "text/plain": [
              "<Figure size 640x480 with 1 Axes>"
            ],
            "image/png": "[encoded data removed]"
          },
          "metadata": {}
        }
      ]
    },
    {
      "cell_type": "code",
      "source": [
        "def evaluate(model, test_loader):\n",
        "    model.eval()\n",
        "    all_preds = []\n",
        "    all_labels = []\n",
        "    correct = 0\n",
        "    total = 0\n",
        "\n",
        "    with torch.no_grad():\n",
        "        for frames, labels in test_loader:\n",
        "            frames, labels = frames.to(device), labels.to(device)\n",
        "\n",
        "            outputs = model(frames)\n",
        "            _, predicted = torch.max(outputs, 1)\n",
        "\n",
        "            total += labels.size(0)\n",
        "            correct += (predicted == labels).sum().item()\n",
        "\n",
        "            all_preds.append(predicted.cpu())\n",
        "            all_labels.append(labels.cpu())\n",
        "\n",
        "    accuracy = 100 * correct / total\n",
        "    return accuracy, torch.cat(all_preds), torch.cat(all_labels)\n",
        "\n",
        "accuracy, all_preds, all_labels = evaluate(model, test_dataloader)\n",
        "print(f\"Test Accuracy: {accuracy:.2f}%\")"
      ],
      "metadata": {
        "colab": {
          "base_uri": "https://localhost:8080/"
        },
        "id": "FtYdmXqPeEwE",
        "outputId": "e81d9a2b-6cfd-45da-b286-10b31a7a52bc"
      },
      "execution_count": 26,
      "outputs": [
        {
          "output_type": "stream",
          "name": "stdout",
          "text": [
            "Test Accuracy: 86.96%\n"
          ]
        }
      ]
    },
    {
      "cell_type": "code",
      "source": [
        "cm = confusion_matrix(all_labels, all_preds)\n",
        "plt.figure(figsize=(8, 6))\n",
        "sns.heatmap(cm, annot=True, fmt='d', cmap='Blues', xticklabels=['bin1', 'bin2', 'bin3', 'alert'], yticklabels=['bin1', 'bin2', 'bin3', 'alert'])\n",
        "plt.xlabel('Predicted')\n",
        "plt.ylabel('True')\n",
        "plt.title('Confusion Matrix')\n",
        "plt.show()"
      ],
      "metadata": {
        "colab": {
          "base_uri": "https://localhost:8080/",
          "height": 564
        },
        "id": "Zf0yaqDjffP0",
        "outputId": "600c2f0c-046f-474f-c956-33cf89efee4e"
      },
      "execution_count": 27,
      "outputs": [
        {
          "output_type": "display_data",
          "data": {
            "text/plain": [
              "<Figure size 800x600 with 2 Axes>"
            ],
            "image/png": "[encoded data removed]"
          },
          "metadata": {}
        }
      ]
    },
    {
      "cell_type": "code",
      "source": [
        "model_path = '/content/drive/MyDrive/sniff_detection_3.pth'\n",
        "\n",
        "torch.save({\n",
        "    'model_state_dict': model.state_dict(),\n",
        "    'optimizer_state_dict': optimizer.state_dict()\n",
        "}, model_path)\n",
        "print(model_path)"
      ],
      "metadata": {
        "colab": {
          "base_uri": "https://localhost:8080/"
        },
        "id": "BhwQKf9MgKN0",
        "outputId": "66fad5de-4510-4c94-91fc-bb4278442aba"
      },
      "execution_count": 28,
      "outputs": [
        {
          "output_type": "stream",
          "name": "stdout",
          "text": [
            "/content/drive/MyDrive/sniff_detection_3.pth\n"
          ]
        }
      ]
    }
  ]
}